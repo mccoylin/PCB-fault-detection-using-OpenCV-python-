{
 "cells": [
  {
   "cell_type": "code",
   "execution_count": 1,
   "metadata": {},
   "outputs": [],
   "source": [
    "import cv2\n",
    "import numpy as np\n",
    "from matplotlib import pyplot as plt\n",
    "from google.colab.patches import cv2_imshow"
   ]
  },
  {
    "cell_type":"code",
    "execution_count": null,
    "metadata": {},
    "outputs": [],
    "source": [
     "!wget https://raw.githubusercontent.com/mccoylin/PCB-fault-detection-using-OpenCV-python-/master/data/pcb_sample.png\n",
     "!wget https://raw.githubusercontent.com/mccoylin/PCB-fault-detection-using-OpenCV-python-/master/data/pcb_test.png"
    ]
  },
  {
   "cell_type": "code",
   "execution_count": 2,
   "metadata": {},
   "outputs": [],
   "source": [
    "img1 = cv2.imread('pcb_sample.png',cv2.IMREAD_COLOR)  #reading the images\n",
    "img2 = cv2.imread('pcb_test.png',cv2.IMREAD_COLOR)\n",
    "\n",
    "gray1 = cv2.cvtColor(img1, cv2.COLOR_BGR2GRAY)        #converting to gray scale\n",
    "gray2 = cv2.cvtColor(img2, cv2.COLOR_BGR2GRAY)\n",
    "\n",
    "ret,thresh1 = cv2.threshold(gray1,200,255,cv2.THRESH_BINARY)  #applying threshold (binary) \n",
    "ret,thresh2 = cv2.threshold(gray2,200,255,cv2.THRESH_BINARY)\n",
    "\n",
    "res =cv2.bitwise_xor(thresh1, thresh2, mask=None)      #comparing the images     \n",
    "\n",
    "#cv2.imshow('Bitwise XOR', res)\n",
    "#cv2.waitKey(0)\n",
    "#cv2.destroyAllWindows()\n",
    "cv2_imshow('res')\n",
    "\n",
    "#https://opencv-python-tutroals.readthedocs.io/en/latest/py_tutorials/py_tutorials.html (Refer this)\n"
   ]
  }
 ],
 "metadata": {
  "kernelspec": {
   "display_name": "Python 3",
   "language": "python",
   "name": "python3"
  },
  "language_info": {
   "codemirror_mode": {
    "name": "ipython",
    "version": 3
   },
   "file_extension": ".py",
   "mimetype": "text/x-python",
   "name": "python",
   "nbconvert_exporter": "python",
   "pygments_lexer": "ipython3",
   "version": "3.7.3"
  }
 },
 "nbformat": 4,
 "nbformat_minor": 2
}
